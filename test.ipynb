{
 "cells": [
  {
   "cell_type": "code",
   "execution_count": 1,
   "id": "6e2a72e7",
   "metadata": {
    "_cell_guid": "b1076dfc-b9ad-4769-8c92-a6c4dae69d19",
    "_uuid": "8f2839f25d086af736a60e9eeb907d3b93b6e0e5",
    "execution": {
     "iopub.execute_input": "2023-06-23T18:24:50.489198Z",
     "iopub.status.busy": "2023-06-23T18:24:50.488887Z",
     "iopub.status.idle": "2023-06-23T18:24:50.498985Z",
     "shell.execute_reply": "2023-06-23T18:24:50.497556Z"
    },
    "papermill": {
     "duration": 0.015391,
     "end_time": "2023-06-23T18:24:50.500764",
     "exception": false,
     "start_time": "2023-06-23T18:24:50.485373",
     "status": "completed"
    },
    "tags": []
   },
   "outputs": [
    {
     "name": "stdout",
     "output_type": "stream",
     "text": [
      "Welcome\n"
     ]
    }
   ],
   "source": [
    "print('Welcome')"
   ]
  },
  {
   "cell_type": "code",
   "execution_count": null,
   "id": "d2bfb2b1",
   "metadata": {
    "papermill": {
     "duration": 0.000968,
     "end_time": "2023-06-23T18:24:50.503089",
     "exception": false,
     "start_time": "2023-06-23T18:24:50.502121",
     "status": "completed"
    },
    "tags": []
   },
   "outputs": [],
   "source": []
  }
 ],
 "metadata": {
  "kernelspec": {
   "display_name": "Python 3",
   "language": "python",
   "name": "python3"
  },
  "language_info": {
   "codemirror_mode": {
    "name": "ipython",
    "version": 3
   },
   "file_extension": ".py",
   "mimetype": "text/x-python",
   "name": "python",
   "nbconvert_exporter": "python",
   "pygments_lexer": "ipython3",
   "version": "3.10.10"
  },
  "papermill": {
   "default_parameters": {},
   "duration": 9.592087,
   "end_time": "2023-06-23T18:24:51.329763",
   "environment_variables": {},
   "exception": null,
   "input_path": "__notebook__.ipynb",
   "output_path": "__notebook__.ipynb",
   "parameters": {},
   "start_time": "2023-06-23T18:24:41.737676",
   "version": "2.4.0"
  }
 },
 "nbformat": 4,
 "nbformat_minor": 5
}
